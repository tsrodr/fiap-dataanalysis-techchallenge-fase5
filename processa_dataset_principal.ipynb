{
 "cells": [
  {
   "cell_type": "code",
   "execution_count": null,
   "metadata": {
    "id": "uXbCw0_nlGnt"
   },
   "outputs": [],
   "source": [
    "# %pip install pandas\n",
    "# %pip install pyspark"
   ]
  },
  {
   "cell_type": "code",
   "execution_count": 17,
   "metadata": {},
   "outputs": [],
   "source": [
    "from pyspark.sql import SparkSession\n",
    "from pyspark.sql.functions import current_date, lit, col, sum as spark_sum\n",
    "import os"
   ]
  },
  {
   "cell_type": "code",
   "execution_count": 23,
   "metadata": {},
   "outputs": [],
   "source": [
    "\n",
    "class SparkPostgres:\n",
    "    def __init__(self, spark, host, port, database, user, password):\n",
    "        self.spark = spark\n",
    "        self.url = f\"jdbc:postgresql://{host}:{port}/{database}\"\n",
    "        self.properties = {\n",
    "            \"user\": user,\n",
    "            \"password\": password,\n",
    "            \"driver\": \"org.postgresql.Driver\"\n",
    "        }\n",
    "\n",
    "    def load_csv(self, file_path, delimiter=';'):\n",
    "        if os.path.exists(file_path):\n",
    "            df = self.spark.read.option(\"header\", \"true\").option(\"inferSchema\", \"true\").option(\"delimiter\", delimiter).csv(file_path)\n",
    "            return df\n",
    "        else:\n",
    "            print(f\"Error: O arquivo {file_path} não existe.\")\n",
    "            return None\n",
    "\n",
    "    def save_to_postgres(self, df, schema, table):\n",
    "        if df is not None:\n",
    "            df = df.withColumn('dt_pst', current_date())\n",
    "            df.write.jdbc(\n",
    "                url=self.url,\n",
    "                table=f\"{schema}.{table}\",\n",
    "                mode=\"overwrite\",\n",
    "                properties=self.properties\n",
    "            )\n",
    "        else:\n",
    "            print(f\"Error: DataFrame vazio para a tabela {schema}.{table}\")\n",
    "\n",
    "class ProcessandoDados:\n",
    "    def __init__(self, spark_postgres):\n",
    "        self.spark_postgres = spark_postgres\n",
    "\n",
    "    def carregar_dados(self, file_path, delimiter=';'):\n",
    "        \"\"\"Carrega os dados de um arquivo CSV usando Spark.\"\"\"\n",
    "        return self.spark_postgres.load_csv(file_path, delimiter)\n",
    "\n",
    "    def analisar_dados(self, df):\n",
    "        \"\"\"Exibe informações sobre os dados, como nulos, duplicados e tipos de colunas.\"\"\"\n",
    "        df.describe().show()\n",
    "        df.select([df[col].isNull().sum().alias(col) for col in df.columns]).show()\n",
    "        print(\"Quantidade de registros duplicados:\", df.count() - df.dropDuplicates().count())\n",
    "        df.printSchema()\n",
    "\n",
    "    def process_columns(self, df, year):\n",
    "        \"\"\"Filtra colunas relevantes para um determinado ano.\"\"\"\n",
    "        cols = [col for col in df.columns if \"NOME\" in col or str(year) in col]\n",
    "        df_filtered = df.select(cols).dropna(subset=[f\"INDE_{year}\"])\n",
    "        for col in df_filtered.columns:\n",
    "            df_filtered = df_filtered.withColumnRenamed(col, col.replace(f\"_{year}\", \"\").lower())\n",
    "        df_filtered = df_filtered.withColumn(\"ano\", lit(year))\n",
    "        return df_filtered\n",
    "\n",
    "    def process_year(self, df, year):\n",
    "        \"\"\"Processa os dados para um ano específico e retorna o dataframe correspondente.\"\"\"\n",
    "        return self.process_columns(df, year)\n",
    "\n",
    "    def salvar_no_rds(self, df, schema, table):\n",
    "        \"\"\"Salva o dataframe em uma tabela no banco de dados RDS.\"\"\"\n",
    "        self.spark_postgres.save_to_postgres(df, schema, table)\n",
    "        print(f\"Dados salvos na tabela {schema}.{table} com sucesso.\")"
   ]
  },
  {
   "cell_type": "code",
   "execution_count": 52,
   "metadata": {},
   "outputs": [
    {
     "name": "stderr",
     "output_type": "stream",
     "text": [
      "                                                                                \r"
     ]
    },
    {
     "name": "stdout",
     "output_type": "stream",
     "text": [
      "Dados salvos na tabela techchallengefase5.tb_dados_principais_2020 com sucesso.\n",
      "\n",
      "Dados processados para o ano 2020 e salvos na tabela tb_dados_principais_2020\n"
     ]
    },
    {
     "name": "stderr",
     "output_type": "stream",
     "text": [
      "                                                                                \r"
     ]
    },
    {
     "name": "stdout",
     "output_type": "stream",
     "text": [
      "Dados salvos na tabela techchallengefase5.tb_dados_principais_2021 com sucesso.\n",
      "\n",
      "Dados processados para o ano 2021 e salvos na tabela tb_dados_principais_2021\n"
     ]
    },
    {
     "name": "stderr",
     "output_type": "stream",
     "text": [
      "                                                                                \r"
     ]
    },
    {
     "name": "stdout",
     "output_type": "stream",
     "text": [
      "Dados salvos na tabela techchallengefase5.tb_dados_principais_2022 com sucesso.\n",
      "\n",
      "Dados processados para o ano 2022 e salvos na tabela tb_dados_principais_2022\n"
     ]
    }
   ],
   "source": [
    "# usado para debug\n",
    "df = None\n",
    "processor = None\n",
    "df_processed_2022 = None\n",
    "df_processed_2021 = None\n",
    "df_processed_2020 = None\n",
    "\n",
    "if __name__ == \"__main__\":\n",
    "    spark = SparkSession.builder.appName(\"CSV to PostgreSQL\").getOrCreate()\n",
    "\n",
    "    host = os.getenv(\"DB_HOST\")\n",
    "    port = os.getenv(\"DB_PORT\")\n",
    "    database = os.getenv(\"DB_DATABASE\")\n",
    "    user = os.getenv(\"DB_USER\")\n",
    "    password = os.getenv(\"DB_PASSWORD\")\n",
    "    schema = os.getenv(\"DB_SCHEMA\")\n",
    "    file_path = \"./source/PEDE_PASSOS_DATASET_FIAP.csv\"\n",
    "\n",
    "    spark_postgres = SparkPostgres(spark, host, port, database, user, password)\n",
    "    processor = ProcessandoDados(spark_postgres)\n",
    "    \n",
    "    df = processor.carregar_dados(file_path)\n",
    "    for year in [2020, 2021, 2022]:\n",
    "        df_processed = processor.process_columns(df, year)\n",
    "        processor.salvar_no_rds(df_processed, schema, f\"tb_dados_principais_{year}\")\n",
    "        print(f\"\\nDados processados para o ano {year} e salvos na tabela tb_dados_principais_{year}\")\n",
    "        \n",
    "        # usado para debug\n",
    "        match year:\n",
    "            case 2020:\n",
    "                df_processed_2020 = df_processed\n",
    "            case 2021:\n",
    "                df_processed_2021 = df_processed\n",
    "            case 2021:\n",
    "                df_processed_2022 = df_processed"
   ]
  },
  {
   "cell_type": "code",
   "execution_count": 57,
   "metadata": {},
   "outputs": [
    {
     "name": "stdout",
     "output_type": "stream",
     "text": [
      "+------------------------+--------+-----------+-------+----------+------------+------------------+-------------+--------+--------------------+--------------------+--------------------+------------------+---+-----+-----------------+-----------------+-----------------+---+----+\n",
      "|instituicao_ensino_aluno|    nome|idade_aluno|anos_pm|fase_turma|ponto_virada|              inde|inde_conceito|   pedra|        destaque_ieg|        destaque_ida|        destaque_ipv|               iaa|ieg|  ips|              ida|              ipp|              ipv|ian| ano|\n",
      "+------------------------+--------+-----------+-------+----------+------------+------------------+-------------+--------+--------------------+--------------------+--------------------+------------------+---+-----+-----------------+-----------------+-----------------+---+----+\n",
      "|          Escola Pública| ALUNO-1|         11|      2|        2H|         Não|          7.883752|            B|Ametista|Seu destaque em 2...|Ponto a melhorar ...|Seu destaque em 2...| 8.500020000000001|8.7|  7.5|                7|           5.9375|             7.75| 10|2020|\n",
      "|          Escola Pública| ALUNO-3|         12|      2|        3H|         Não| 7.856389666666666|            B|Ametista|Seu destaque em 2...|Ponto a melhorar ...|Seu destaque em 2...|           7.91667|8.9|  7.5|              5.5|            8.125|8.111113333333334| 10|2020|\n",
      "|          Escola Pública| ALUNO-4|         10|      2|        1D|         Não|          5.076252|            D| Quartzo|Ponto a melhorar ...|Ponto a melhorar ...|Ponto a melhorar ...| 8.000020000000001|4.1|6.875|                0|           7.1875|             7.75|  5|2020|\n",
      "|          Escola Pública| ALUNO-5|         10|      1|        2M|         Não|          8.077085|            B|Ametista|Seu destaque em 2...|Seu destaque em 2...|Seu destaque em 2...|           7.50002|  8|  7.5|              7.5|           8.4375|         8.166665| 10|2020|\n",
      "|      Rede Decisão/União| ALUNO-8|         14|      3|        4L|         Sim| 8.381390666666666|            B|Ametista|Seu destaque em 2...|Ponto a melhorar ...|Seu destaque em 2...|           8.33334|9.9|4.375|7.333333333333333|8.749999999999998|          8.94445| 10|2020|\n",
      "|          Escola Pública|ALUNO-10|         13|      1|        3B|         Não|         5.1618745|            D| Quartzo|Ponto a melhorar ...|Ponto a melhorar ...|Seu destaque em 2...|           5.83333|5.2| 3.75|                0|          7.96875|        6.8333325| 10|2020|\n",
      "|          Escola Pública|ALUNO-11|          8|      0|        0A|         Sim| 9.712504000000001|            A| Topázio|Seu destaque em 2...|Seu destaque em 2...|Seu destaque em 2...| 9.000020000000001| 10|8.125|               10|               10|         10.00001| 10|2020|\n",
      "|      Rede Decisão/União|ALUNO-12|         14|      3|        3G|         Não| 5.838887333333334|            D| Quartzo|Ponto a melhorar ...|Ponto a melhorar ...|Ponto a melhorar ...|              6.25|  6|5.625|6.666666666666667|5.624999999999999|5.277770000000001|  5|2020|\n",
      "|          Escola Pública|ALUNO-14|         11|      2|        2M|         Não|          6.434585|            C|   Ágata|Seu destaque em 2...|Ponto a melhorar ...|Seu destaque em 2...| 8.000020000000001|7.6|6.875|                0|           8.4375|         7.916665| 10|2020|\n",
      "|          Escola Pública|ALUNO-15|         12|      1|        2D|         Não|          5.162502|            D| Quartzo|Ponto a melhorar ...|Ponto a melhorar ...|Ponto a melhorar ...| 8.500020000000001|  4|  7.5|                0|            8.125|             7.25|  5|2020|\n",
      "|          Escola Pública|ALUNO-17|         13|      2|        1G|         Não|          7.766252|            B|Ametista|Ponto a melhorar ...|Seu destaque em 2...|Ponto a melhorar ...| 9.500020000000001|6.8|  7.5|               10|           6.5625|             7.75|  5|2020|\n",
      "|          Escola Pública|ALUNO-18|         14|      3|        3E|         Não|7.2055576666666665|            C|   Ágata|Ponto a melhorar ...|Ponto a melhorar ...|Ponto a melhorar ...|           9.58335|  7|  7.5|              6.5|7.083333333333334|7.944446666666665|  5|2020|\n",
      "|      Rede Decisão/União|ALUNO-28|         13|      2|        3J|         Sim| 9.354725666666667|            A| Topázio|Seu destaque em 2...|Seu destaque em 2...|Seu destaque em 2...|           9.58335|9.6|6.875|                9|               10|9.944453333333334| 10|2020|\n",
      "|          Escola Pública|ALUNO-30|          7|      0|        0C|         Não|          7.125001|            C|   Ágata|Seu destaque em 2...|Ponto a melhorar ...|Seu destaque em 2...|7.9166799999999995| 10|  7.5|             4.75|              2.5|         6.916665| 10|2020|\n",
      "|          Escola Pública|ALUNO-33|         13|      0|        3E|         Não| 7.013888333333334|            C|   Ágata|Ponto a melhorar ...|Seu destaque em 2...|Seu destaque em 2...|           6.66667|4.5|  7.5|8.666666666666666|7.083333333333334|6.277773333333332| 10|2020|\n",
      "|          Escola Pública|ALUNO-34|         12|      2|        2C|         Não| 7.698890666666667|            B|Ametista|Seu destaque em 2...|Ponto a melhorar ...|Ponto a melhorar ...| 8.500020000000001|9.3|6.875|                7|            8.125|7.944443333333334|  5|2020|\n",
      "|          Escola Pública|ALUNO-35|         18|      3|        7B|         Não|           6.64396|            C|   Ágata|Ponto a melhorar ...|Ponto a melhorar ...|Ponto a melhorar ...|           8.75001|6.1| 6.25|                5|          7.65625|          8.29167|  5|2020|\n",
      "|          Escola Pública|ALUNO-36|         14|      1|        3C|         Não| 8.307780333333334|            B|Ametista|Seu destaque em 2...|Seu destaque em 2...|Ponto a melhorar ...|           9.58335|9.9|  7.5|                8|8.749999999999998|8.222226666666668|  5|2020|\n",
      "|          Escola Pública|ALUNO-37|         10|      2|        2N|         Não|6.6788913333333335|            C|   Ágata|Seu destaque em 2...|Ponto a melhorar ...|Seu destaque em 2...|10.000020000000001|7.7|4.375|              2.5|6.458333333333333|          7.77778| 10|2020|\n",
      "|          Escola Pública|ALUNO-39|         13|      3|        3F|         Não| 8.131388333333334|            B|Ametista|Seu destaque em 2...|Seu destaque em 2...|Seu destaque em 2...|           6.24999|9.4|  7.5|8.333333333333334|8.541666666666666|6.777780000000001| 10|2020|\n",
      "+------------------------+--------+-----------+-------+----------+------------+------------------+-------------+--------+--------------------+--------------------+--------------------+------------------+---+-----+-----------------+-----------------+-----------------+---+----+\n",
      "only showing top 20 rows\n",
      "\n"
     ]
    }
   ],
   "source": [
    "df_processed_2022.show()"
   ]
  }
 ],
 "metadata": {
  "colab": {
   "authorship_tag": "ABX9TyMTbf3rwvO+3iw/SZfpVjis",
   "collapsed_sections": [
    "jj1m78gyRuBO",
    "DdFcJHbkYY8J"
   ],
   "provenance": []
  },
  "kernelspec": {
   "display_name": ".venv",
   "language": "python",
   "name": "python3"
  },
  "language_info": {
   "codemirror_mode": {
    "name": "ipython",
    "version": 3
   },
   "file_extension": ".py",
   "mimetype": "text/x-python",
   "name": "python",
   "nbconvert_exporter": "python",
   "pygments_lexer": "ipython3",
   "version": "3.12.3"
  }
 },
 "nbformat": 4,
 "nbformat_minor": 0
}
