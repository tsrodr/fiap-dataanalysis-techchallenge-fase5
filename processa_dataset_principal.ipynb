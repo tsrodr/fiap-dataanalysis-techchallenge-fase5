{
 "cells": [
  {
   "cell_type": "code",
   "execution_count": null,
   "metadata": {
    "id": "uXbCw0_nlGnt"
   },
   "outputs": [],
   "source": [
    "# %pip install pandas\n",
    "# %pip install psycopg2\n",
    "# %pip install sqlalchemy"
   ]
  },
  {
   "cell_type": "code",
   "execution_count": 3,
   "metadata": {},
   "outputs": [],
   "source": [
    "import pandas as pd\n",
    "from sqlalchemy import create_engine"
   ]
  },
  {
   "cell_type": "code",
   "execution_count": 1,
   "metadata": {},
   "outputs": [],
   "source": [
    "class ProcessandoDados:\n",
    "    def __init__(self, db_config):\n",
    "        self.db_config = db_config\n",
    "        self.engine = create_engine(\n",
    "            f\"postgresql+psycopg2://{db_config['user']}:{db_config['password']}@{db_config['host']}:{db_config['port']}/{db_config['database']}\"\n",
    "        )\n",
    "\n",
    "    def carregar_dados(self, file_path, delimiter=';'):\n",
    "        \"\"\"Carrega os dados de um arquivo CSV.\"\"\"\n",
    "        pd.set_option('display.max_columns', None)\n",
    "        df = pd.read_csv(file_path, delimiter=delimiter)\n",
    "        return df\n",
    "\n",
    "    def analisar_dados(self, df):\n",
    "        \"\"\"Exibe informações sobre os dados, como nulos, duplicados, únicos e tipos de colunas.\"\"\"\n",
    "        print(\"Valores nulos por coluna:\\n\", df.isnull().sum())\n",
    "        print(\"\\nQuantidade de valores duplicados:\\n\", df.duplicated().sum())\n",
    "        print(\"\\nQuantidade de valores únicos por coluna:\\n\", df.nunique())\n",
    "        print(\"\\nTipos de dados por coluna:\\n\", df.dtypes)\n",
    "\n",
    "    def process_columns(self, df, year):\n",
    "        \"\"\"Filtra colunas relevantes para um determinado ano.\"\"\"\n",
    "        cols = df.columns[df.columns.str.contains(\"NOME\") | df.columns.str.contains(str(year))]\n",
    "        df_filtered = df[cols].dropna(subset=[f\"INDE_{year}\"])\n",
    "        df_filtered.columns = df_filtered.columns.str.replace(f\"_{year}\", \"\").str.lower()\n",
    "        df_filtered['ano'] = year\n",
    "        return df_filtered\n",
    "\n",
    "    def process_year(self, df, year):\n",
    "        \"\"\"Processa os dados para um ano específico e retorna o dataframe correspondente.\"\"\"\n",
    "        return self.process_columns(df, year)\n",
    "\n",
    "    def salvar_no_rds(self, df, table_name):\n",
    "        \"\"\"Salva o dataframe em uma tabela no banco de dados RDS.\"\"\"\n",
    "        df.to_sql(table_name, con=self.engine, if_exists='replace', index=False)\n",
    "        print(f\"Dados salvos na tabela {table_name} com sucesso.\")"
   ]
  },
  {
   "cell_type": "code",
   "execution_count": 4,
   "metadata": {},
   "outputs": [
    {
     "name": "stdout",
     "output_type": "stream",
     "text": [
      "\n",
      "Dados processados para o ano 2020 e salvos na tabela dados_2020\n",
      "\n",
      "Dados processados para o ano 2021 e salvos na tabela dados_2021\n",
      "\n",
      "Dados processados para o ano 2022 e salvos na tabela dados_2022\n"
     ]
    }
   ],
   "source": [
    "config = {\n",
    "    \"host\": \"seu-host-rds.amazonaws.com\",\n",
    "    \"port\": \"5432\",\n",
    "    \"user\": \"seu-usuario\",\n",
    "    \"password\": \"sua-senha\",\n",
    "    \"database\": \"seu-banco\"\n",
    "}\n",
    "\n",
    "df = None\n",
    "processador = None\n",
    "\n",
    "if __name__ == \"__main__\":\n",
    "    processador = ProcessandoDados(config)\n",
    "    file_path = \"./source/PEDE_PASSOS_DATASET_FIAP.csv\"\n",
    "\n",
    "    df = processador.carregar_dados(file_path)\n",
    "    # processador.analisar_dados(df)\n",
    "\n",
    "    for year in [2020, 2021, 2022]:\n",
    "        processed_df = processador.process_year(df, year)\n",
    "        table_name = f\"dados_{year}\"\n",
    "        # processador.salvar_no_rds(processed_df, table_name)\n",
    "        print(f\"\\nDados processados para o ano {year} e salvos na tabela {table_name}\")"
   ]
  },
  {
   "cell_type": "code",
   "execution_count": 7,
   "metadata": {},
   "outputs": [
    {
     "name": "stdout",
     "output_type": "stream",
     "text": [
      "Valores nulos por coluna:\n",
      " INSTITUICAO_ENSINO_ALUNO_2020    621\n",
      "NOME                               0\n",
      "IDADE_ALUNO_2020                 621\n",
      "ANOS_PM_2020                     621\n",
      "FASE_TURMA_2020                  621\n",
      "                                ... \n",
      "INDICADO_BOLSA_2022              487\n",
      "PONTO_VIRADA_2022                487\n",
      "IPV_2022                         487\n",
      "IAN_2022                         487\n",
      "NIVEL_IDEAL_2022                 487\n",
      "Length: 69, dtype: int64\n",
      "\n",
      "Quantidade de valores duplicados:\n",
      " 0\n",
      "\n",
      "Quantidade de valores únicos por coluna:\n",
      " INSTITUICAO_ENSINO_ALUNO_2020       8\n",
      "NOME                             1349\n",
      "IDADE_ALUNO_2020                   15\n",
      "ANOS_PM_2020                        6\n",
      "FASE_TURMA_2020                    63\n",
      "                                 ... \n",
      "INDICADO_BOLSA_2022                 2\n",
      "PONTO_VIRADA_2022                   2\n",
      "IPV_2022                          452\n",
      "IAN_2022                            3\n",
      "NIVEL_IDEAL_2022                    9\n",
      "Length: 69, dtype: int64\n",
      "\n",
      "Tipos de dados por coluna:\n",
      " INSTITUICAO_ENSINO_ALUNO_2020     object\n",
      "NOME                              object\n",
      "IDADE_ALUNO_2020                  object\n",
      "ANOS_PM_2020                      object\n",
      "FASE_TURMA_2020                   object\n",
      "                                  ...   \n",
      "INDICADO_BOLSA_2022               object\n",
      "PONTO_VIRADA_2022                 object\n",
      "IPV_2022                         float64\n",
      "IAN_2022                         float64\n",
      "NIVEL_IDEAL_2022                  object\n",
      "Length: 69, dtype: object\n"
     ]
    }
   ],
   "source": [
    "processador.analisar_dados(df)"
   ]
  },
  {
   "cell_type": "code",
   "execution_count": 8,
   "metadata": {},
   "outputs": [],
   "source": [
    "df_2020 =processador.process_year(df, 2020)\n",
    "df_2021 =processador.process_year(df, 2021)\n",
    "df_2022 =processador.process_year(df, 2022)"
   ]
  },
  {
   "cell_type": "code",
   "execution_count": 9,
   "metadata": {},
   "outputs": [
    {
     "data": {
      "text/plain": [
       "instituicao_ensino_aluno                                       Escola Pública\n",
       "nome                                                                  ALUNO-1\n",
       "idade_aluno                                                                11\n",
       "anos_pm                                                                     2\n",
       "fase_turma                                                                 2H\n",
       "ponto_virada                                                              Não\n",
       "inde                                                                 7.883752\n",
       "inde_conceito                                                               B\n",
       "pedra                                                                Ametista\n",
       "destaque_ieg                Seu destaque em 2020: A sua boa entrega das li...\n",
       "destaque_ida                Ponto a melhorar em 2021: Empenhar-se mais nas...\n",
       "destaque_ipv                Seu destaque em 2020: A sua boa integração aos...\n",
       "iaa                                                         8.500020000000001\n",
       "ieg                                                                       8.7\n",
       "ips                                                                       7.5\n",
       "ida                                                                         7\n",
       "ipp                                                                    5.9375\n",
       "ipv                                                                      7.75\n",
       "ian                                                                        10\n",
       "ano                                                                      2020\n",
       "Name: 0, dtype: object"
      ]
     },
     "execution_count": 9,
     "metadata": {},
     "output_type": "execute_result"
    }
   ],
   "source": [
    "df_2020.iloc[0]"
   ]
  }
 ],
 "metadata": {
  "colab": {
   "authorship_tag": "ABX9TyMTbf3rwvO+3iw/SZfpVjis",
   "collapsed_sections": [
    "jj1m78gyRuBO",
    "DdFcJHbkYY8J"
   ],
   "provenance": []
  },
  "kernelspec": {
   "display_name": ".venv",
   "language": "python",
   "name": "python3"
  },
  "language_info": {
   "codemirror_mode": {
    "name": "ipython",
    "version": 3
   },
   "file_extension": ".py",
   "mimetype": "text/x-python",
   "name": "python",
   "nbconvert_exporter": "python",
   "pygments_lexer": "ipython3",
   "version": "3.12.3"
  }
 },
 "nbformat": 4,
 "nbformat_minor": 0
}
